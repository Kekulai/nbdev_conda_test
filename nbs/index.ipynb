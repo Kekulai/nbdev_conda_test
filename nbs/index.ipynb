{
 "cells": [
  {
   "cell_type": "code",
   "execution_count": null,
   "metadata": {},
   "outputs": [],
   "source": [
    "#| hide\n",
    "from nbdev_conda_test.core import *"
   ]
  },
  {
   "cell_type": "markdown",
   "metadata": {},
   "source": [
    "# nbdev_conda_test\n",
    "\n",
    "> nbdev has been tested for pip, but this repo will explore if a conda based approach will work.\n",
    "\n",
    "_NB_: conda can't handle hyphens in package naming, so this tests using underscores."
   ]
  },
  {
   "cell_type": "markdown",
   "metadata": {},
   "source": [
    "This file will become your README and also the index of your documentation."
   ]
  },
  {
   "cell_type": "markdown",
   "metadata": {},
   "source": [
    "## Install"
   ]
  },
  {
   "cell_type": "markdown",
   "metadata": {},
   "source": [
    "Actually use conda like the following\n",
    "\n",
    "```bash\n",
    "conda install -c kekulai -c conda-forge -c tmap nbdev_conda_test\n",
    "```"
   ]
  },
  {
   "cell_type": "markdown",
   "metadata": {},
   "source": [
    "# Conda package naming convention\n",
    "Conda package names are normalized and they may contain only lowercase alpha characters, numeric digits, underscores, hyphens, or dots"
   ]
  },
  {
   "cell_type": "markdown",
   "metadata": {},
   "source": [
    "# Pip package naming convention\n",
    "\n",
    "Underscores can be used in the module name if it improves readability. Python packages should also have short, all-lowercase names, although the use of underscores is discouraged. A valid name consists only of ASCII letters and numbers, period, underscore and hyphen. It must start and end with a letter or number.\n"
   ]
  },
  {
   "cell_type": "markdown",
   "metadata": {},
   "source": [
    "NB: Python can not import packages with a hyphen though!!\n",
    "\n",
    "> SO FOR SIMPLICITY, KEEP PACKAGE NAMING CONVENTION LOWERCASE,NUMERICS AND UNDERSCORE IF NEEDED\n"
   ]
  },
  {
   "cell_type": "markdown",
   "metadata": {},
   "source": [
    "## Dev\n",
    "\n",
    "NB: nbdev_conda does not work because it depends on first uploading to pypi and then downloading it to prep for conda build.  This pypi dependent approach will not work for those packaging requirements that need other conda packages.  \n",
    "```bash\n",
    "nbdev_conda --build_args '-c conda-forge -c tmap' --upload_user kekulai\n",
    "```\n",
    "\n",
    "Altneraiavely, you can directly build conda from conda build and anaconda cli that yuou need to installed inthe base environment.  \n",
    "\n",
    "1. Populate meta.yaml\n",
    "    - package name\n",
    "    - github url\n",
    "    - dependent packages with custom channel name :: package convention\n",
    "2. `$ nbdev_prepare`\n",
    "    - nbdev_export: Builds the .py modules from Jupyter notebooks\n",
    "    - nbdev_test: Tests your notebooks\n",
    "    - nbdev_clean: Cleans your notebooks to get rid of extreanous output for git\n",
    "    - nbdev_readme: Updates your repo’s README.md file from your index notebook.\n",
    "3. Manually execute conda build, but make sure it is isntalled in base as follows:\n",
    "\n",
    "    ```bash\n",
    "    $ conda activate base\n",
    "    $ conda install anaconda-client conda-build\n",
    "    $ conda update conda  # latest updates to mamba\n",
    "    $ anaconda login # enter your anaconda credentials\n",
    "    $ cd [to your github folder]\n",
    "    $ conda build -c conda-forge -c tmap . # -c your-dependent-channels\n",
    "    ....\n",
    "    anaconda upload \\\n",
    "        /anaconda/conda-bld/linux-64/nbdev_conda_test-0.0.1-py310_0.tar.bz2\n",
    "    ....\n",
    "    $ anaconda upload -u kekulai /anaconda/conda-bld/linux-64/nbdev_conda_test-0.0.1-py310_0.tar.bz2 # pass channnel as -u user\n",
    "    conda located at:\n",
    "    https://anaconda.org/kekulai/nbdev_conda_test\n",
    "    ```\n",
    "\n",
    "4. removed test.yaml since it assumes pip install rather than conda.  future work can revist a test CI using conda \n",
    "\n",
    "5. push to git\n"
   ]
  },
  {
   "cell_type": "markdown",
   "metadata": {},
   "source": [
    "## How to use"
   ]
  },
  {
   "cell_type": "markdown",
   "metadata": {},
   "source": [
    "Fill me in please! Don't forget code examples:"
   ]
  },
  {
   "cell_type": "code",
   "execution_count": null,
   "metadata": {},
   "outputs": [
    {
     "name": "stdout",
     "output_type": "stream",
     "text": [
      "hey\n"
     ]
    }
   ],
   "source": [
    "bar()"
   ]
  },
  {
   "cell_type": "code",
   "execution_count": null,
   "metadata": {},
   "outputs": [],
   "source": []
  }
 ],
 "metadata": {
  "kernelspec": {
   "display_name": "nbdev_conda_test",
   "language": "python",
   "name": "nbdev_conda_test"
  }
 },
 "nbformat": 4,
 "nbformat_minor": 4
}
